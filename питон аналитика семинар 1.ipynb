{
  "nbformat": 4,
  "nbformat_minor": 0,
  "metadata": {
    "colab": {
      "provenance": [],
      "toc_visible": true,
      "authorship_tag": "ABX9TyOIhghc/82rTSPVd1C7ZX7B",
      "include_colab_link": true
    },
    "kernelspec": {
      "name": "python3",
      "display_name": "Python 3"
    },
    "language_info": {
      "name": "python"
    }
  },
  "cells": [
    {
      "cell_type": "markdown",
      "metadata": {
        "id": "view-in-github",
        "colab_type": "text"
      },
      "source": [
        "<a href=\"https://colab.research.google.com/github/Olgynchik/-/blob/main/Untitled2.ipynb\" target=\"_parent\"><img src=\"https://colab.research.google.com/assets/colab-badge.svg\" alt=\"Open In Colab\"/></a>"
      ]
    },
    {
      "cell_type": "markdown",
      "source": [
        "## задание 1\n",
        "1.1 соедени два соваря в один\n",
        "\n",
        "1.2 напиши  функцию,  которая на вход принимает два словаря. Используйте антаницию типов"
      ],
      "metadata": {
        "id": "38nFXF8sI77d"
      }
    },
    {
      "cell_type": "markdown",
      "source": [
        "### ПУНКТ 1"
      ],
      "metadata": {
        "id": "2QVPMt_ZJkki"
      }
    },
    {
      "cell_type": "code",
      "source": [
        "dict1 = {'one': 1,'two': 2,'three': 3}\n",
        "dict2 = {'four': 4,'five': 5, 'six': 6} ## словарь пишем в фигурных скобках указывая ключ и значения\n",
        "dict1.update(dict2) ## склеивание двух словарей и записываем их  в первый словарь dict1 = dict1 + dict2\n",
        "dict1  ## обязательно вывести значение просто прописав названия словаря"
      ],
      "metadata": {
        "colab": {
          "base_uri": "https://localhost:8080/"
        },
        "id": "Kp5HYdscJta1",
        "outputId": "27a8ae24-0ad9-4b8a-cf23-ad0ee6550238"
      },
      "execution_count": 4,
      "outputs": [
        {
          "output_type": "execute_result",
          "data": {
            "text/plain": [
              "{'one': 1, 'two': 2, 'three': 3, 'four': 4, 'five': 5, 'six': 6}"
            ]
          },
          "metadata": {},
          "execution_count": 4
        }
      ]
    },
    {
      "cell_type": "markdown",
      "source": [
        "### ПУНКТ 2"
      ],
      "metadata": {
        "id": "3tcJqOZ6MIsn"
      }
    },
    {
      "cell_type": "code",
      "source": [
        "def merge_dicts(dict1: 2, dict2: 2) -> dict: ## где def это команда создающая функцию, а -> dict указывает какой тип данных возвращаем\n",
        "  dict1.update(dict2) # склеивание двух словарей\n",
        "  return dict1 # возвращаем словарь\n",
        "merge_dicts(dict1, dict2) # вызываем функцию"
      ],
      "metadata": {
        "colab": {
          "base_uri": "https://localhost:8080/"
        },
        "id": "buQ8KZjiMMut",
        "outputId": "bf02b2a4-37da-4a48-e328-7dc720b9895d"
      },
      "execution_count": 16,
      "outputs": [
        {
          "output_type": "execute_result",
          "data": {
            "text/plain": [
              "{'one': 1, 'two': 2, 'three': 3, 'four': 4, 'five': 5, 'six': 6}"
            ]
          },
          "metadata": {},
          "execution_count": 16
        }
      ]
    },
    {
      "cell_type": "markdown",
      "source": [
        "## задание 2\n",
        "напишите функцию которая из  двух списков делает один словарь, где элементы из первого списка ключи , а элементы из второг списка значения. Используйте антонирование типов\n",
        "\n",
        "2.1 Используйте список for\n",
        "\n",
        "2.2 используйте dict компликтейшен\n"
      ],
      "metadata": {
        "id": "4NsA4rO1OOUC"
      }
    },
    {
      "cell_type": "markdown",
      "source": [
        "### ПУНКТ 2.1"
      ],
      "metadata": {
        "id": "4yFbkW6_PDtu"
      }
    },
    {
      "cell_type": "code",
      "source": [
        "keys = ['one', 'two', ' three']\n",
        "values = [1, 2, 3]\n",
        "result_dict = {} # словарь создается либо фигурными пустыми скобками либо dict()\n",
        "for i in  range(len(keys)):\n",
        "  result_dict[keys[i]] = values[i]\n",
        "result_dict\n"
      ],
      "metadata": {
        "colab": {
          "base_uri": "https://localhost:8080/"
        },
        "id": "Iw3IY9fvPJ7I",
        "outputId": "e36fa01d-b8e2-4fb5-9100-43a455a081be"
      },
      "execution_count": 17,
      "outputs": [
        {
          "output_type": "execute_result",
          "data": {
            "text/plain": [
              "{'one': 1, 'two': 2, ' three': 3}"
            ]
          },
          "metadata": {},
          "execution_count": 17
        }
      ]
    },
    {
      "cell_type": "markdown",
      "source": [
        "### ПУНКТ 2.2"
      ],
      "metadata": {
        "id": "j0O6_bgJPKLr"
      }
    },
    {
      "cell_type": "code",
      "source": [
        "{keys[i]: values[i] for i in range(len(keys))}"
      ],
      "metadata": {
        "colab": {
          "base_uri": "https://localhost:8080/"
        },
        "id": "VixKfyn0PQBR",
        "outputId": "f6fd38ce-e246-4aa8-c3f9-9f5f5152b97d"
      },
      "execution_count": 18,
      "outputs": [
        {
          "output_type": "execute_result",
          "data": {
            "text/plain": [
              "{'one': 1, 'two': 2, ' three': 3}"
            ]
          },
          "metadata": {},
          "execution_count": 18
        }
      ]
    },
    {
      "cell_type": "markdown",
      "source": [
        "## задание 3\n",
        "\n",
        "извлеките только два ключа из словаря name, age\n",
        "\n",
        "3.1 напишите функцию  с циклом for который на вход принимает исходный словарь,  ключи которого нужно извлечь (аргумент по умолчанию), а на выход выводит словар с нужными ключами\n",
        "\n",
        "3.2 используйте dict компликтейшен"
      ],
      "metadata": {
        "id": "64baOWcdReMs"
      }
    },
    {
      "cell_type": "markdown",
      "source": [
        "### пункт 3.1\n"
      ],
      "metadata": {
        "id": "0njm694kS3OZ"
      }
    },
    {
      "cell_type": "code",
      "source": [
        "def get_keys_from_dict(base_dict: dict, keys: list =\n",
        "                       ['name', 'age']) -> dict: # создаем функцию которая приниает словарь и ключ\n",
        "  result_dict = {}\n",
        "  for key in keys:\n",
        "    result_dict[key] = base_dict[key] # В новый словарь записываем ключ где значния данного ключа будетявляться значение под этим же включем только в нашем основном словаре\n",
        "  return result_dict"
      ],
      "metadata": {
        "id": "u-teMyyOTCEq"
      },
      "execution_count": 19,
      "outputs": []
    },
    {
      "cell_type": "code",
      "source": [
        "client_dict = {'name': 'Jone', 'age': 18, 'salary': 5000,\n",
        "               'city': 'Moscow'}\n",
        "get_keys_from_dict(client_dict)"
      ],
      "metadata": {
        "colab": {
          "base_uri": "https://localhost:8080/"
        },
        "id": "IWEjjoNpSPNU",
        "outputId": "28248e82-20e5-45ca-9339-557987ea17eb"
      },
      "execution_count": 21,
      "outputs": [
        {
          "output_type": "execute_result",
          "data": {
            "text/plain": [
              "{'name': 'Jone', 'age': 18}"
            ]
          },
          "metadata": {},
          "execution_count": 21
        }
      ]
    },
    {
      "cell_type": "markdown",
      "source": [
        "\n",
        "\n",
        "###пункт 3.2\n",
        "`\n",
        "\n"
      ],
      "metadata": {
        "id": "p1fFx7_0VPnf"
      }
    },
    {
      "cell_type": "code",
      "source": [
        "keys = ['name', 'age'] # передаем список\n",
        "{key: client_dict[key] for key in keys}"
      ],
      "metadata": {
        "colab": {
          "base_uri": "https://localhost:8080/"
        },
        "id": "0iMUoZLVVW6e",
        "outputId": "4e917b47-1ec8-4b01-9c3f-11f6e4195e50"
      },
      "execution_count": 22,
      "outputs": [
        {
          "output_type": "execute_result",
          "data": {
            "text/plain": [
              "{'name': 'Jone', 'age': 18}"
            ]
          },
          "metadata": {},
          "execution_count": 22
        }
      ]
    },
    {
      "cell_type": "markdown",
      "source": [
        "## задание 4\n",
        "\n",
        "4.1 сгенирируйте случайние целые числа  от 0 до 100 в количесвте 5 штук с помощью модуля random\n",
        "\n",
        "* зафиксируйте псевдогенирацию,  что бы значени всегда были одинаковые\n",
        "\n",
        "*используйте  лист компликтейшен\n",
        "### Пункт 4.1\n"
      ],
      "metadata": {
        "id": "TevNpDJSX1cM"
      }
    },
    {
      "cell_type": "code",
      "source": [
        "import random\n",
        "\n",
        "random.seed(8) # seed способствует выводу одних и тех же значений при  псевдогенерации\n",
        "data = [random.randint(0, 100) for i in range(6)]\n",
        "data"
      ],
      "metadata": {
        "colab": {
          "base_uri": "https://localhost:8080/"
        },
        "id": "M6yYxf3hX3AF",
        "outputId": "7c0eb26b-f43c-48f3-dcb2-1d85d9e93822"
      },
      "execution_count": 25,
      "outputs": [
        {
          "output_type": "execute_result",
          "data": {
            "text/plain": [
              "[29, 47, 48, 16, 24, 90]"
            ]
          },
          "metadata": {},
          "execution_count": 25
        }
      ]
    },
    {
      "cell_type": "markdown",
      "source": [
        "## задание 6\n",
        "напишите функцию кторая принимает любое количесвто трат пользователя и считает сумму и среднее\n",
        "\n",
        "* на вход поступают целочисленые значени в любом количетсве\n",
        "\n",
        "* на выходе словарь с ключами суммы трат и средней траты\n",
        "\n"
      ],
      "metadata": {
        "id": "P5IiyKIeZfLT"
      }
    },
    {
      "cell_type": "code",
      "source": [
        "def calc(*args): # * означает любое количество\n",
        "  sum_product = sum(args)\n",
        "  count_p = len(args)\n",
        "  return {\n",
        "      'sum': sum_product,\n",
        "      'mean': sum_product / count_p,\n",
        "      'count': count_p\n",
        "  }\n",
        "calc(130, 140, 12, 1999)"
      ],
      "metadata": {
        "colab": {
          "base_uri": "https://localhost:8080/"
        },
        "id": "NSR3-TrdZfxM",
        "outputId": "69964a54-1254-4025-a993-fe3f37dbf229"
      },
      "execution_count": 26,
      "outputs": [
        {
          "output_type": "execute_result",
          "data": {
            "text/plain": [
              "{'sum': 2281, 'mean': 570.25}"
            ]
          },
          "metadata": {},
          "execution_count": 26
        }
      ]
    }
  ]
}
